{
 "cells": [
  {
   "cell_type": "markdown",
   "id": "2e74ea6f",
   "metadata": {},
   "source": [
    "# Advanced Regression Assignment\n",
    "### Project by PARTHASARATHY SESHADRI\n",
    "Creating a polynomial regression model  for the prediction of the actual value of the prospective properties and decide whether to invest in them or not.\n",
    "## Table of Contents\n",
    "* [General Info](#general-information)\n",
    "* [Technologies Used](#technologies-used)\n",
    "* [Conclusions](#conclusions)\n",
    "* [Acknowledgements](#acknowledgements)\n",
    "\n",
    "\n",
    "\n",
    "## General Information\n",
    "\n",
    "\n",
    "- Aim is to model the price of houses with the available independent variables.\n",
    "- A US-based housing company named Surprise Housing has decided to enter the Australian market. Ant they have Price of houses with the available independent variables. Using that to create a model and that will Help tounderstand how exactly the prices vary with the variables. And it can accordingly manipulate the strategy of the \"Surprise Housing\" Management and concentrate on areas that will yield high returns. Further, the model will be a good way for management to understand the pricing dynamics of the Australian market\n",
    "- Build a model the price of houses with the available independent variables. This model will then be used by the management to understand how exactly the prices vary with the variables. They can accordingly manipulate the strategy of the firm and concentrate on areas that will yield high returns. Further, the model will be a good way for management to understand the pricing dynamics of a new market.\n",
    "- The company has collected a data set from the sale of houses in Australia. The data is provided in the CSV file.\n",
    "\n",
    " \n",
    "\n",
    "## Conclusions\n",
    "Please see the notebook for more detailed insights.\n",
    "1. `GrLivArea` is by far the most important predictor\n",
    "2. The top variables are intuitive.\n",
    "3. Lasso is the chosen model for the final model, because it creates a simple model with the top features.\n",
    "\n",
    "\n",
    "\n",
    "## Technologies Used\n",
    "- python:  3.11.5\n",
    "- numpy:  1.24.3\n",
    "- pandas:  2.0.3\n",
    "- matplotlib:  3.7.2\n",
    "- seaborn:  0.12.2\n",
    "- sklearn:  1.3.0\n",
    "- statsmodels:  0.14.0\n",
    "- scipy:  1.11.1\n",
    "\n",
    "<!-- As the libraries versions keep on changing, it is recommended to mention the version of library used in this project -->\n",
    "\n",
    "## Acknowledgements\n",
    "This project was inspired by UpGrad tutorials on Advannced Regression Assignment(ML) on the learning platform\n",
    "\n",
    "\n",
    "## Contact\n",
    "Created by [@parthakrs] - feel free to contact me!\n",
    "\n",
    "## License\n",
    "\n",
    "This project is open source and available without restrictions.\"# Advannced Regression Assignment\" \n"
   ]
  }
 ],
 "metadata": {
  "kernelspec": {
   "display_name": "Python 3 (ipykernel)",
   "language": "python",
   "name": "python3"
  },
  "language_info": {
   "codemirror_mode": {
    "name": "ipython",
    "version": 3
   },
   "file_extension": ".py",
   "mimetype": "text/x-python",
   "name": "python",
   "nbconvert_exporter": "python",
   "pygments_lexer": "ipython3",
   "version": "3.11.5"
  }
 },
 "nbformat": 4,
 "nbformat_minor": 5
}
